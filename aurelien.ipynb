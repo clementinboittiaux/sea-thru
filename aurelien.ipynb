{
 "cells": [
  {
   "cell_type": "code",
   "execution_count": null,
   "id": "a8194a43-501b-489d-bd52-189e6bcf8354",
   "metadata": {},
   "outputs": [],
   "source": [
    "import os\n",
    "import cv2\n",
    "import tqdm\n",
    "import torch\n",
    "import rawpy\n",
    "import numpy as np\n",
    "import matplotlib.pyplot as plt\n",
    "from PIL import Image\n",
    "from pathlib import Path\n",
    "from scipy.optimize import least_squares\n",
    "\n",
    "\n",
    "def stretch_histogram(image, clip_percentile=0):\n",
    "    im = np.array(image)\n",
    "    for c in range(3):\n",
    "        im[:, :, c] = im[:, :, c].clip(\n",
    "            np.percentile(im[:, :, c], clip_percentile),\n",
    "            np.percentile(im[:, :, c], 100 - clip_percentile)\n",
    "        )\n",
    "        im[:, :, c] -= im[:, :, c].min()\n",
    "        im[:, :, c] /= im[:, :, c].max()\n",
    "    return im\n",
    "\n",
    "\n",
    "def process_depth(image, depth):\n",
    "    im = np.array(image)\n",
    "    for c in range(3):\n",
    "        im[z == 0, c] = im[z != 0, c].min()\n",
    "    return im\n",
    "\n",
    "\n",
    "def plot_image(image, **kwargs):\n",
    "    im = image - image.min()\n",
    "    im = im / im.max()\n",
    "    plt.figure(figsize=(20, 20))\n",
    "    plt.imshow(im, **kwargs)\n",
    "\n",
    "\n",
    "def save_image(image, image_name):\n",
    "    im = image - image.min()\n",
    "    im = im / im.max()\n",
    "    im = im * 255\n",
    "    Image.fromarray(im.astype(np.uint8)).save(image_name)\n",
    "\n",
    "\n",
    "def load_image(data_path, image_name):\n",
    "    image_file = data_path / 'Raw' / image_name\n",
    "    depth_file = data_path / 'depthMaps' / f'depth{os.path.splitext(image_name)[0]}.tif'\n",
    "    raw = rawpy.imread(str(image_file))\n",
    "    bayer = raw.raw_image_visible.astype(np.float64)\n",
    "    Ir = bayer[::2, ::2]\n",
    "    Ig = (bayer[::2, 1::2] + bayer[1::2, ::2]) / 2\n",
    "    Ib = bayer[1::2, 1::2]\n",
    "    I = np.stack([Ir, Ig, Ib], axis=2)\n",
    "    z = np.array(Image.open(depth_file), dtype=np.float64)\n",
    "    z = cv2.resize(z, I.shape[:2][::-1])\n",
    "    z[z != 0] = z[z != 0].clip(\n",
    "        np.percentile(z[z != 0], 1),\n",
    "        np.percentile(z[z != 0], 99),\n",
    "    )\n",
    "    return raw, I, z\n",
    "\n",
    "\n",
    "def demosaic(data_path, image_name, I, white_balance=False):\n",
    "    image_file = data_path / 'Raw' / image_name\n",
    "    raw = rawpy.imread(str(image_file))\n",
    "    I = I - I.min()\n",
    "    I = I / I.max()\n",
    "    I = I * (raw.raw_image_visible.max() - raw.raw_image_visible.min())\n",
    "    I = I + raw.raw_image_visible.min()\n",
    "    I = I.astype(np.uint16)\n",
    "    raw.raw_image_visible[::2, ::2] = I[:, :, 0]\n",
    "    raw.raw_image_visible[::2, 1::2] = I[:, :, 1]\n",
    "    raw.raw_image_visible[1::2, ::2] = I[:, :, 1]\n",
    "    raw.raw_image_visible[1::2, 1::2] = I[:, :, 2]\n",
    "    return raw.postprocess(half_size=True, use_auto_wb=white_balance)\n",
    "\n",
    "\n",
    "def compute_omega(Ic, z, percentile, min_z_percentile=1, max_z_percentile=99):\n",
    "    \n",
    "    z_range = np.linspace(\n",
    "        z[z != 0].min(),\n",
    "        z[z != 0].max(),\n",
    "        11\n",
    "    )\n",
    "    \n",
    "    omega = []\n",
    "    for min_z, max_z in zip(z_range[:-1], z_range[1:]):\n",
    "        args_z_in_range = np.argwhere((z >= min_z) & (z < max_z))\n",
    "        Ic_in_range = Ic[args_z_in_range[:, 0], args_z_in_range[:, 1]]\n",
    "        if percentile < 50:\n",
    "            omega_range_mask = Ic_in_range < np.percentile(Ic_in_range, percentile)\n",
    "        else:\n",
    "            omega_range_mask = Ic_in_range > np.percentile(Ic_in_range, percentile)\n",
    "        omega.append(args_z_in_range[omega_range_mask])\n",
    "    return np.vstack(omega)\n",
    "\n",
    "\n",
    "def compute_backscatter(Ic, z):\n",
    "    \n",
    "    print('Computing backscatter')\n",
    "    \n",
    "    omega = compute_omega(Ic, z, 1)\n",
    "    \n",
    "    Bc_hat = Ic[omega[:, 0], omega[:, 1]]\n",
    "    z_low = z[omega[:, 0], omega[:, 1]]\n",
    "    \n",
    "    def residuals(x):\n",
    "        Bc_inf, beta_Bc = x\n",
    "        return (Bc_hat - Bc_inf * (1 - np.exp(-beta_Bc * z_low))).flatten()\n",
    "    \n",
    "    return least_squares(\n",
    "        residuals,\n",
    "        [Bc_hat.mean(), 2.5],\n",
    "        bounds=([0, 0], [1, 5]),\n",
    "        jac='3-point',\n",
    "        verbose=2\n",
    "    ).x\n",
    "\n",
    "\n",
    "def compute_backscatter_with_residuals(Ic, z):\n",
    "    \n",
    "    print('Computing backscatter')\n",
    "    \n",
    "    omega = compute_omega(Ic, z, 1)\n",
    "    \n",
    "    Bc_hat = Ic[omega[:, 0], omega[:, 1]]\n",
    "    z_low = z[omega[:, 0], omega[:, 1]]\n",
    "    \n",
    "    def residuals(x):\n",
    "        Bc_inf, beta_Bc, Jc_prime, beta_Dc_prime = x\n",
    "        return (Bc_hat - Bc_inf * (1 - np.exp(-beta_Bc * z_low)) - Jc_prime * np.exp(-beta_Dc_prime * z_low)).flatten()\n",
    "    \n",
    "    return least_squares(\n",
    "        residuals,\n",
    "        [Bc_hat.mean(), 2.5, 0, 5],\n",
    "        bounds=([0, 0, 0, 0], [1, 5, 1, 5]),\n",
    "        jac='3-point',\n",
    "        verbose=2\n",
    "    ).x[:2]\n",
    "\n",
    "\n",
    "def beta_D(beta_D_a, beta_D_b, beta_D_c, beta_D_d, z):\n",
    "    return beta_D_a * np.exp(beta_D_b * z) + beta_D_c * np.exp(beta_D_d * z)\n",
    "\n",
    "\n",
    "def compute_beta_D(Dc, z):\n",
    "    \n",
    "    print('Computing beta_D')\n",
    "    \n",
    "    omega = compute_omega(Dc, z, 99)\n",
    "    \n",
    "    Dc_top = Dc[omega[:, 0], omega[:, 1]]\n",
    "    z_top = z[omega[:, 0], omega[:, 1]]\n",
    "    \n",
    "    def compute_Ac(beta_Dc):\n",
    "        return np.sum(Dc_top * np.exp(-beta_Dc * z_top)) / np.sum(np.exp(-2 * beta_Dc * z_top))\n",
    "    \n",
    "    def residuals(x):\n",
    "        beta_Dc_a, beta_Dc_b, beta_Dc_c, beta_Dc_d = x\n",
    "        beta_Dc = beta_D(beta_Dc_a, beta_Dc_b, beta_Dc_c, beta_Dc_d, z_top)\n",
    "        Ac = compute_Ac(beta_Dc)\n",
    "        return (Dc_top - Ac * np.exp(-beta_Dc * z_top)).flatten()\n",
    "    \n",
    "    beta_Dc_abcd = least_squares(\n",
    "        residuals,\n",
    "        [0.05, -0.05, 0.05, -0.05],\n",
    "        bounds=([0, -np.inf, 0, -np.inf], [np.inf, 0, np.inf, 0]),\n",
    "        jac='3-point',\n",
    "        verbose=2,\n",
    "        #max_nfev=10000\n",
    "    ).x\n",
    "    \n",
    "    Ac = compute_Ac(beta_D(*beta_Dc_abcd, z_top))\n",
    "    \n",
    "    return Ac, beta_Dc_abcd\n",
    "\n",
    "\n",
    "def rescale_Jc(Jc, Ac, z):\n",
    "    Ac = Ac - Jc[z != 0].min()\n",
    "    Jc = Jc - Jc[z != 0].min()\n",
    "    Jc = Jc / Ac\n",
    "    return Jc.clip(0, 1)"
   ]
  },
  {
   "cell_type": "code",
   "execution_count": null,
   "id": "7ae481fd-ecc2-48cc-a48a-d16a5448eec6",
   "metadata": {
    "tags": []
   },
   "outputs": [],
   "source": [
    "#data_path = Path('dataset/D1P1/')\n",
    "#image_name = 'T_S03075.ARW'\n",
    "data_path = Path('dataset/D5/')\n",
    "image_name = 'LFT_3400.NEF'\n",
    "\n",
    "raw, I, z = load_image(data_path, image_name)\n",
    "I = I / I.max()\n",
    "\n",
    "B_inf = np.zeros(3)\n",
    "beta_B = np.zeros(3)\n",
    "for c in range(3):\n",
    "    B_inf[c], beta_B[c] = compute_backscatter(I[:, :, c], z)\n",
    "\n",
    "B = B_inf * (1 - np.exp(-beta_B * z[..., np.newaxis]))\n",
    "D = I -  B\n",
    "\n",
    "A = np.zeros(3)\n",
    "beta_D_a = np.zeros(3)\n",
    "beta_D_b = np.zeros(3)\n",
    "beta_D_c = np.zeros(3)\n",
    "beta_D_d = np.zeros(3)\n",
    "for c in range(3):\n",
    "    A[c], (beta_D_a[c], beta_D_b[c], beta_D_c[c], beta_D_d[c]) = compute_beta_D(D[:, :, c], z)\n",
    "\n",
    "J = D * np.exp(beta_D(beta_D_a, beta_D_b, beta_D_c, beta_D_d, z[..., np.newaxis]) * z[..., np.newaxis])\n",
    "\n",
    "J_scaled = np.stack([rescale_Jc(J[:, :, c], A[c], z) for c in range(3)], axis=2)"
   ]
  },
  {
   "cell_type": "code",
   "execution_count": null,
   "id": "68f46d7e-b02a-4a3f-a0c7-f94b59dae846",
   "metadata": {},
   "outputs": [],
   "source": [
    "wb = True\n",
    "Image.fromarray(raw.postprocess(half_size=True, use_auto_wb=wb)).save('test/raw.png')\n",
    "Image.fromarray(demosaic(data_path, image_name, stretch_histogram(process_depth(I, z)), white_balance=wb)).save('test/I.png')\n",
    "Image.fromarray(demosaic(data_path, image_name, stretch_histogram(process_depth(D, z)), white_balance=wb)).save('test/D.png')\n",
    "Image.fromarray(demosaic(data_path, image_name, process_depth(J_scaled, z), white_balance=wb)).save('test/J.png')"
   ]
  },
  {
   "cell_type": "code",
   "execution_count": null,
   "id": "96289d66-892b-4da7-a253-a36120077e73",
   "metadata": {},
   "outputs": [],
   "source": [
    "(stretch_histogram(process_depth(J_scaled, z)) == process_depth(J_scaled, z)).mean()"
   ]
  },
  {
   "cell_type": "code",
   "execution_count": null,
   "id": "9f280323-4a1a-43f6-a007-403163d91b04",
   "metadata": {},
   "outputs": [],
   "source": [
    "plot_image(stretch_histogram(process_depth(D, z), 1))"
   ]
  },
  {
   "cell_type": "code",
   "execution_count": null,
   "id": "ec862030-ab39-4928-808d-5a30225fa8b1",
   "metadata": {},
   "outputs": [],
   "source": [
    "plot_image(process_depth(J_scaled, z))"
   ]
  },
  {
   "cell_type": "code",
   "execution_count": null,
   "id": "e0017233-e21b-4481-82cb-659ad513b589",
   "metadata": {},
   "outputs": [],
   "source": []
  },
  {
   "cell_type": "code",
   "execution_count": null,
   "id": "bf7f3007-e222-4e9d-965f-3b343dfa2c64",
   "metadata": {},
   "outputs": [],
   "source": [
    "plt.hist(J[z!=0, 0].flatten())"
   ]
  },
  {
   "cell_type": "code",
   "execution_count": null,
   "id": "d99cef4a-51db-42aa-a886-28709feb667d",
   "metadata": {},
   "outputs": [],
   "source": [
    "for c in range(3):\n",
    "    A[c] -= "
   ]
  },
  {
   "cell_type": "code",
   "execution_count": null,
   "id": "9a7e278b-dd69-487a-b0b2-545c9a28c16b",
   "metadata": {},
   "outputs": [],
   "source": [
    "A"
   ]
  },
  {
   "cell_type": "code",
   "execution_count": null,
   "id": "ee63d017-f098-4507-8a8f-cd0b1b084c14",
   "metadata": {},
   "outputs": [],
   "source": [
    "J[z != 0, 0].min()"
   ]
  },
  {
   "cell_type": "code",
   "execution_count": null,
   "id": "aa1bfdb2-8b7f-4689-a734-d49601bda6aa",
   "metadata": {},
   "outputs": [],
   "source": [
    "beta_D_b"
   ]
  },
  {
   "cell_type": "code",
   "execution_count": null,
   "id": "5cf8ff8f-a2e4-4500-821c-4fb58c199d00",
   "metadata": {},
   "outputs": [],
   "source": [
    "beta_D_c"
   ]
  },
  {
   "cell_type": "code",
   "execution_count": null,
   "id": "c8d2dc71-614a-420c-814e-19341c1aca7e",
   "metadata": {},
   "outputs": [],
   "source": [
    "beta_D_d"
   ]
  },
  {
   "cell_type": "code",
   "execution_count": null,
   "id": "d7f70387-55e9-440f-8b2d-d662de69d676",
   "metadata": {},
   "outputs": [],
   "source": [
    "J.max()"
   ]
  },
  {
   "cell_type": "code",
   "execution_count": null,
   "id": "4ccbe1bf-4af6-46c8-adcd-0682a5ff0bd4",
   "metadata": {},
   "outputs": [],
   "source": [
    "J[:,:,1].max()"
   ]
  },
  {
   "cell_type": "code",
   "execution_count": null,
   "id": "29a90df0-35ca-41a8-8683-ac1b8702078b",
   "metadata": {},
   "outputs": [],
   "source": [
    "J[z != 0, 0].min()"
   ]
  },
  {
   "cell_type": "code",
   "execution_count": null,
   "id": "e807f7d3-9edc-4de8-80e7-e63b6d40ccdf",
   "metadata": {},
   "outputs": [],
   "source": [
    "D[:, :, 0].max()"
   ]
  },
  {
   "cell_type": "code",
   "execution_count": null,
   "id": "c639f29c-ad6a-443c-b556-e7a29d34caa6",
   "metadata": {},
   "outputs": [],
   "source": [
    "plt.hist(J[z != 0, 2].flatten())\n",
    "plt.yscale('log')"
   ]
  },
  {
   "cell_type": "code",
   "execution_count": null,
   "id": "c5e3c91a-2dc3-494c-8b0d-4482188a7c4f",
   "metadata": {},
   "outputs": [],
   "source": [
    "plt.hist([J[z != 0, 0].flatten(), J[z != 0, 1].flatten(), J[z != 0, 2].flatten()], color=['r', 'g', 'b'])\n",
    "plt.yscale('log')"
   ]
  },
  {
   "cell_type": "code",
   "execution_count": null,
   "id": "a3be884a-4683-4ace-918f-9adb395fc06d",
   "metadata": {},
   "outputs": [],
   "source": [
    "plot_image(process_depth(B, z))"
   ]
  },
  {
   "cell_type": "code",
   "execution_count": null,
   "id": "33a31bef-61bd-4589-a085-11043fe402bc",
   "metadata": {},
   "outputs": [],
   "source": [
    "plot_image(stretch_histogram(process_depth(I, z), 1))"
   ]
  },
  {
   "cell_type": "code",
   "execution_count": null,
   "id": "a199498d-66ca-44d4-903d-4ea05de93338",
   "metadata": {},
   "outputs": [],
   "source": [
    "plot_image(stretch_histogram(process_depth(J, z), 1))"
   ]
  },
  {
   "cell_type": "code",
   "execution_count": null,
   "id": "8647f938-a0f0-4cda-8b43-40c225292d45",
   "metadata": {},
   "outputs": [],
   "source": [
    "B.max()"
   ]
  },
  {
   "cell_type": "code",
   "execution_count": null,
   "id": "81b5a266-22eb-41b2-91fb-1b0084d6442f",
   "metadata": {},
   "outputs": [],
   "source": [
    "plot_image(stretch_histogram(process_depth(J, z)))"
   ]
  },
  {
   "cell_type": "code",
   "execution_count": null,
   "id": "18761bb2-96be-42fc-a51c-8371570a7cc5",
   "metadata": {},
   "outputs": [],
   "source": [
    "plot_image(stretch_histogram(process_depth(I, z)))"
   ]
  },
  {
   "cell_type": "code",
   "execution_count": null,
   "id": "fe87982c-3b76-4514-84fc-37a2090edb97",
   "metadata": {},
   "outputs": [],
   "source": [
    "beta_D_a"
   ]
  },
  {
   "cell_type": "code",
   "execution_count": null,
   "id": "a2e80239-4bba-45b7-b087-f1859c1c02b3",
   "metadata": {},
   "outputs": [],
   "source": [
    "beta_D_d"
   ]
  },
  {
   "cell_type": "code",
   "execution_count": null,
   "id": "4da0ba5a-ea53-43e3-be4d-c1172ca7fb7a",
   "metadata": {},
   "outputs": [],
   "source": [
    "beta_D_b"
   ]
  },
  {
   "cell_type": "code",
   "execution_count": null,
   "id": "1b90fedd-18eb-4ce6-b046-19c868bc5a1e",
   "metadata": {},
   "outputs": [],
   "source": [
    "exp(-(beta_D_a * exp(beta_D_b * z) + beta_D_c * exp(beta_D_d * z)) * z)"
   ]
  },
  {
   "cell_type": "code",
   "execution_count": null,
   "id": "eef3a9fc-3777-49f4-b1f9-11cf7d44b132",
   "metadata": {},
   "outputs": [],
   "source": [
    "omega = compute_omega(I[:, :, 0], z, 99)"
   ]
  },
  {
   "cell_type": "code",
   "execution_count": null,
   "id": "08bc704d-8c58-48ef-af9e-4e97c7a592ab",
   "metadata": {},
   "outputs": [],
   "source": [
    "m = I[omega[:, 0], omega[:, 1], 0]\n",
    "mz = z[omega[:, 0], omega[:, 1]]"
   ]
  },
  {
   "cell_type": "code",
   "execution_count": null,
   "id": "98f2b401-91cb-411f-837f-24cdb30bba5c",
   "metadata": {},
   "outputs": [],
   "source": [
    "m = I[z != 0, 2].flatten()\n",
    "mz = z[z != 0].flatten()"
   ]
  },
  {
   "cell_type": "code",
   "execution_count": null,
   "id": "ae39e83e-f0ee-4f96-849f-4af0aecd0e09",
   "metadata": {},
   "outputs": [],
   "source": [
    "plt.figure(figsize=(20, 20))\n",
    "plt.scatter(mz, m, s=0.1, alpha=0.5)\n",
    "#plt.plot(ranges[1:], meds, c='r')"
   ]
  },
  {
   "cell_type": "code",
   "execution_count": null,
   "id": "64d43dbc-2e8a-439f-8082-f6fcc93b419c",
   "metadata": {},
   "outputs": [],
   "source": [
    "import seaborn"
   ]
  },
  {
   "cell_type": "code",
   "execution_count": null,
   "id": "7bb5d7d7-039e-4028-afa9-bbcc4f5c23a5",
   "metadata": {},
   "outputs": [],
   "source": [
    "args = (z < 8) & (z > 6) & (I[:, :, 1] < 0.2) & (I[:, :, 1] > 0.15)"
   ]
  },
  {
   "cell_type": "code",
   "execution_count": null,
   "id": "44306088-b294-4d6f-af23-dad6bd95d77d",
   "metadata": {},
   "outputs": [],
   "source": [
    "O = I[:, :, 1].copy()"
   ]
  },
  {
   "cell_type": "code",
   "execution_count": null,
   "id": "d868c72d-8211-43b2-bf00-6c5abff9bff5",
   "metadata": {},
   "outputs": [],
   "source": [
    "O[(-1 * args + 1).astype(bool)] = 0"
   ]
  },
  {
   "cell_type": "code",
   "execution_count": null,
   "id": "b857237a-b13b-470d-a35a-8de5bbde7e94",
   "metadata": {},
   "outputs": [],
   "source": [
    "ranges = np.linspace(z[z != 0].min(), z[z != 0].max(), 100)"
   ]
  },
  {
   "cell_type": "code",
   "execution_count": null,
   "id": "809c9b13-5346-404e-b247-8e5ef77e4adf",
   "metadata": {},
   "outputs": [],
   "source": [
    "meds = []\n",
    "for zmin, zmax in zip(ranges[:-1], ranges[1:]):\n",
    "    args_in_range = (z >= zmin) & (z < zmax)\n",
    "    meds.append(np.median(I[args_in_range, 0]))"
   ]
  },
  {
   "cell_type": "code",
   "execution_count": null,
   "id": "25815cce-4ff8-4944-9b67-ddad21dff320",
   "metadata": {},
   "outputs": [],
   "source": [
    "plt.plot(ranges[1:], meds)"
   ]
  },
  {
   "cell_type": "code",
   "execution_count": null,
   "id": "bcd2effa-c612-4288-840a-c49c8095f531",
   "metadata": {},
   "outputs": [],
   "source": [
    "plot_image(O)"
   ]
  },
  {
   "cell_type": "code",
   "execution_count": null,
   "id": "d7e9b44a-3e4f-422c-9cf9-fa37a12a5da6",
   "metadata": {},
   "outputs": [],
   "source": [
    "plot_image(stretch_histogram(process_depth(I, z)))"
   ]
  },
  {
   "cell_type": "code",
   "execution_count": null,
   "id": "a1b0ff1a-c9c6-463e-9bcb-f43446a4a9f9",
   "metadata": {},
   "outputs": [],
   "source": [
    "a=(I[:, :, 0] < 0.2) & (I[:, :, 0] > 0.15)"
   ]
  },
  {
   "cell_type": "code",
   "execution_count": null,
   "id": "c30ae59d-215c-4398-b2aa-e7dfd284c3e3",
   "metadata": {},
   "outputs": [],
   "source": [
    "a.sum()"
   ]
  },
  {
   "cell_type": "code",
   "execution_count": null,
   "id": "ac49cfef-7b25-4969-a7d3-2af75b8c7457",
   "metadata": {},
   "outputs": [],
   "source": []
  }
 ],
 "metadata": {
  "kernelspec": {
   "display_name": "Python 3",
   "language": "python",
   "name": "python3"
  },
  "language_info": {
   "codemirror_mode": {
    "name": "ipython",
    "version": 3
   },
   "file_extension": ".py",
   "mimetype": "text/x-python",
   "name": "python",
   "nbconvert_exporter": "python",
   "pygments_lexer": "ipython3",
   "version": "3.7.13"
  }
 },
 "nbformat": 4,
 "nbformat_minor": 5
}
