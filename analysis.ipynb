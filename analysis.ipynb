{
 "cells": [
  {
   "cell_type": "code",
   "execution_count": null,
   "id": "e47b1969-c4f6-4963-a82c-c2ffa5ed5fe6",
   "metadata": {},
   "outputs": [],
   "source": [
    "import numpy as np\n",
    "import ipywidgets as widgets\n",
    "import matplotlib.pyplot as plt"
   ]
  },
  {
   "cell_type": "code",
   "execution_count": null,
   "id": "8cf6df13-3df8-4523-9f2a-efe4055bb0dd",
   "metadata": {},
   "outputs": [],
   "source": [
    "def beta(a, b, c, d, z):\n",
    "    return a * np.exp(-b * z) + c * np.exp(-d * z)\n",
    "\n",
    "def residuals(I, J, B, gamma, a, b, c, d, z):\n",
    "    return I - J * np.exp(-beta(a, b, c, d, z) * z) - B * (1 - np.exp(-gamma * z))\n",
    "\n",
    "def plot(I, J, B, gamma, a, b, c, d):\n",
    "    z = np.linspace(1.5, 10, 10000)\n",
    "    plt.plot(z, residuals(I, J, B, gamma, a, b, c, d, z))\n",
    "    #z_opti = np.log((J * beta) / (B * gamma)) / (beta - gamma)\n",
    "    #plt.scatter([z_opti], [residuals(I, J, beta, B, gamma, z_opti)], c='r')\n",
    "    #print(z_opti)\n",
    "\n",
    "widgets.interact(\n",
    "    plot,\n",
    "    I=widgets.FloatSlider(min=0, max=1, value=0.7, step=0.01),\n",
    "    J=widgets.FloatSlider(min=0, max=1, value=0.47, step=0.01),\n",
    "    B=widgets.FloatSlider(min=0, max=1, value=0.33, step=0.01),\n",
    "    gamma=widgets.FloatSlider(min=0, max=5, value=1.0, step=0.01),\n",
    "    a=widgets.FloatSlider(min=0, max=1, value=0.03, step=0.01),\n",
    "    b=widgets.FloatSlider(min=0, max=1, value=0.08, step=0.01),\n",
    "    c=widgets.FloatSlider(min=0, max=1, value=0.03, step=0.01),\n",
    "    d=widgets.FloatSlider(min=0, max=1, value=0.07, step=0.01)\n",
    ")"
   ]
  },
  {
   "cell_type": "code",
   "execution_count": null,
   "id": "d33d6ffb-2c88-4abf-b34e-f740faab779a",
   "metadata": {},
   "outputs": [],
   "source": [
    "def residuals(I, J, beta, B, gamma, z):\n",
    "    return I - J * np.exp(-beta * z) - B * (1 - np.exp(-gamma * z))\n",
    "\n",
    "def plot(I, J, beta, B, gamma):\n",
    "    z = np.linspace(0, 10, 10000)\n",
    "    plt.plot(z, residuals(I, J, beta, B, gamma, z))\n",
    "\n",
    "widgets.interact(\n",
    "    plot,\n",
    "    I=widgets.FloatSlider(min=0, max=1, value=0.7, step=0.01),\n",
    "    J=widgets.FloatSlider(min=0, max=1, value=0.47, step=0.01),\n",
    "    beta=widgets.FloatSlider(min=0, max=5, value=1.0, step=0.01),\n",
    "    B=widgets.FloatSlider(min=0, max=1, value=0.33, step=0.01),\n",
    "    gamma=widgets.FloatSlider(min=0, max=5, value=1.0, step=0.01)\n",
    ")"
   ]
  },
  {
   "cell_type": "code",
   "execution_count": null,
   "id": "58422a25-2881-49e5-82bf-065ceddeb104",
   "metadata": {},
   "outputs": [],
   "source": []
  }
 ],
 "metadata": {
  "kernelspec": {
   "display_name": "Python 3",
   "language": "python",
   "name": "python3"
  },
  "language_info": {
   "codemirror_mode": {
    "name": "ipython",
    "version": 3
   },
   "file_extension": ".py",
   "mimetype": "text/x-python",
   "name": "python",
   "nbconvert_exporter": "python",
   "pygments_lexer": "ipython3",
   "version": "3.7.13"
  }
 },
 "nbformat": 4,
 "nbformat_minor": 5
}
