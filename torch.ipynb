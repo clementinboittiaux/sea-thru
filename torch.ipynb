{
 "cells": [
  {
   "cell_type": "code",
   "execution_count": null,
   "id": "a4def9ef-03d9-4298-8033-66cfd17c03f6",
   "metadata": {},
   "outputs": [],
   "source": [
    "import os\n",
    "import cv2\n",
    "import tqdm\n",
    "import torch\n",
    "import rawpy\n",
    "import numpy as np\n",
    "import matplotlib.pyplot as plt\n",
    "from PIL import Image\n",
    "from pathlib import Path\n",
    "from scipy.optimize import least_squares\n",
    "\n",
    "\n",
    "def load_image(data_path, image_name):\n",
    "    image_file = data_path / 'Raw' / image_name\n",
    "    depth_file = data_path / 'depthMaps' / f'depth{os.path.splitext(image_name)[0]}.tif'\n",
    "    depth = np.array(Image.open(depth_file), dtype=np.float64)\n",
    "    raw = rawpy.imread(str(image_file))\n",
    "    rgb = raw.postprocess()\n",
    "    rgb = cv2.resize(rgb / 255, depth.shape[::-1])\n",
    "    return rgb, depth\n",
    "\n",
    "\n",
    "def plot_image(image, **kwargs):\n",
    "    plt.figure(figsize=(20, 20))\n",
    "    plt.imshow(image, **kwargs)\n",
    "\n",
    "\n",
    "def save_image(image, image_name):\n",
    "    im = image - image.min()\n",
    "    im = im / im.max()\n",
    "    im = im * 255\n",
    "    Image.fromarray(im.astype(np.uint8)).save(image_name)\n",
    "\n",
    "\n",
    "def stretch_histogram(image, clip_percentile=0.0):\n",
    "    im = image.copy()\n",
    "    for channel in range(3):\n",
    "        im[:, :, channel] = im[:, :, channel].clip(\n",
    "            np.percentile(im[:, :, channel], clip_percentile),\n",
    "            np.percentile(im[:, :, channel], 100 - clip_percentile)\n",
    "        )\n",
    "        im[:, :, channel] = (im[:, :, channel] - im[:, :, channel].mean()) / im[:, :, channel].std()\n",
    "        im[:, :, channel] -= im[:, :, channel].min()\n",
    "        im[:, :, channel] /= im[:, :, channel].max()\n",
    "    return im\n",
    "\n",
    "\n",
    "def compute_omega(image, depth, min_depth_percentile=1, max_depth_percentile=99):\n",
    "    \n",
    "    depth_ranges = np.linspace(\n",
    "        np.percentile(depth, min_depth_percentile),\n",
    "        np.percentile(depth, max_depth_percentile),\n",
    "        11\n",
    "    )\n",
    "    \n",
    "    omega = []\n",
    "    for min_depth, max_depth in zip(depth_ranges[:-1], depth_ranges[1:]):\n",
    "        args_depth_in_range = np.argwhere((depth >= min_depth) & (depth < max_depth))\n",
    "        im_in_range = image[args_depth_in_range[:, 0], args_depth_in_range[:, 1]]\n",
    "        mean_im_in_range = im_in_range.mean(axis=1)\n",
    "        omega_range_mask = mean_im_in_range < np.percentile(mean_im_in_range, 1)\n",
    "        omega.append(args_depth_in_range[omega_range_mask])\n",
    "    return np.vstack(omega)\n",
    "\n",
    "\n",
    "def compute_backscatter(image, depth):\n",
    "    \n",
    "    omega = compute_omega(image, depth)\n",
    "    \n",
    "    B_hat = image[omega[:, 0], omega[:, 1]]\n",
    "    z = depth[omega[:, 0], omega[:, 1], np.newaxis].repeat(3, 1)\n",
    "    \n",
    "    B_inf_init = B_hat.mean(axis=0).tolist()\n",
    "    beta_B_init = [2.5, 2.5, 2.5]\n",
    "    J_prime_init = [0.0, 0.0, 0.0]\n",
    "    beta_D_prime_init = [0.0, 0.0, 0.0]\n",
    "    \n",
    "    def residuals(x):\n",
    "        B_inf, beta_B, J_prime, beta_D_prime = np.array_split(x, 4)\n",
    "        return (B_hat - B_inf * (1 - np.exp(-beta_B * z)) - J_prime * np.exp(-beta_D_prime * z)).flatten()\n",
    "    \n",
    "    return least_squares(\n",
    "        residuals,\n",
    "        B_inf_init + beta_B_init + J_prime_init + beta_D_prime_init,\n",
    "        bounds=([0] * 12, [1, 1, 1, 5, 5, 5] * 2),\n",
    "        jac='3-point',\n",
    "        verbose=2\n",
    "    ).x"
   ]
  },
  {
   "cell_type": "code",
   "execution_count": null,
   "id": "ab5670f0-2fe8-4bac-aced-1d39f418709f",
   "metadata": {},
   "outputs": [],
   "source": [
    "I, z = load_image(Path('dataset/D1P1/'), 'T_S03136.ARW')\n",
    "\n",
    "B_inf, beta_B, J_prime, beta_D_prime = np.array_split(compute_backscatter(I, z), 4)\n",
    "\n",
    "B = B_inf * (1 - np.exp(-beta_B * z[..., np.newaxis].repeat(3, 2)))\n",
    "D = I - B\n",
    "\n",
    "save_image(stretch_histogram(D, 0), 'test/D.png')\n",
    "save_image(stretch_histogram(I, 0), 'test/I.png')\n",
    "save_image(I, 'test/IRaw.png')"
   ]
  },
  {
   "cell_type": "code",
   "execution_count": null,
   "id": "1341e204-f672-44a2-8af3-c3392343437e",
   "metadata": {},
   "outputs": [],
   "source": [
    "B_inf"
   ]
  },
  {
   "cell_type": "code",
   "execution_count": null,
   "id": "254a1df5-d16b-4928-96f1-2644c5bc68a0",
   "metadata": {},
   "outputs": [],
   "source": [
    "beta_B"
   ]
  },
  {
   "cell_type": "code",
   "execution_count": null,
   "id": "ee95c8a9-f3e8-44e3-8b46-3070e5f47bc1",
   "metadata": {},
   "outputs": [],
   "source": [
    "J_prime"
   ]
  },
  {
   "cell_type": "code",
   "execution_count": null,
   "id": "ed89a526-0a66-4412-afe9-a5a8c4cbfb60",
   "metadata": {},
   "outputs": [],
   "source": [
    "beta_D_prime"
   ]
  },
  {
   "cell_type": "code",
   "execution_count": null,
   "id": "6ace73be-9837-47c1-8b83-87d01004656e",
   "metadata": {},
   "outputs": [],
   "source": []
  }
 ],
 "metadata": {
  "kernelspec": {
   "display_name": "Python 3",
   "language": "python",
   "name": "python3"
  },
  "language_info": {
   "codemirror_mode": {
    "name": "ipython",
    "version": 3
   },
   "file_extension": ".py",
   "mimetype": "text/x-python",
   "name": "python",
   "nbconvert_exporter": "python",
   "pygments_lexer": "ipython3",
   "version": "3.7.13"
  }
 },
 "nbformat": 4,
 "nbformat_minor": 5
}
